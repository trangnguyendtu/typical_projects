{
 "cells": [
  {
   "cell_type": "code",
   "execution_count": 1,
   "id": "cfc8d85d",
   "metadata": {},
   "outputs": [],
   "source": [
    "import warnings\n",
    "warnings.filterwarnings('ignore')"
   ]
  },
  {
   "cell_type": "code",
   "execution_count": 2,
   "id": "9e4b7ca3",
   "metadata": {},
   "outputs": [
    {
     "name": "stderr",
     "output_type": "stream",
     "text": [
      "[nltk_data] Downloading package stopwords to\n",
      "[nltk_data]     C:\\Users\\MSIs\\AppData\\Roaming\\nltk_data...\n",
      "[nltk_data]   Package stopwords is already up-to-date!\n",
      "[nltk_data] Downloading package wordnet to\n",
      "[nltk_data]     C:\\Users\\MSIs\\AppData\\Roaming\\nltk_data...\n",
      "[nltk_data]   Package wordnet is already up-to-date!\n"
     ]
    },
    {
     "data": {
      "text/plain": [
       "True"
      ]
     },
     "execution_count": 2,
     "metadata": {},
     "output_type": "execute_result"
    }
   ],
   "source": [
    "# run only once\n",
    "import nltk\n",
    "nltk.download('stopwords')\n",
    "nltk.download('wordnet')"
   ]
  },
  {
   "cell_type": "code",
   "execution_count": 3,
   "id": "edb8d915",
   "metadata": {},
   "outputs": [],
   "source": [
    "import pandas as pd\n",
    "import glob\n",
    "import os\n",
    "\n",
    "import re\n",
    "import string\n",
    "import numpy as np\n",
    "import pandas as pd\n",
    "import matplotlib.pyplot as plt\n",
    "import seaborn as sns\n",
    "from tqdm import tqdm # Progress Bar\n",
    "\n",
    "import nltk\n",
    "from nltk.corpus import stopwords\n",
    "from nltk.stem import WordNetLemmatizer\n",
    "from nltk.corpus import stopwords\n",
    "from nltk.stem.porter import PorterStemmer\n",
    "\n",
    "from sklearn.preprocessing import LabelEncoder\n",
    "from sklearn.feature_extraction.text import TfidfVectorizer\n",
    "from sklearn.naive_bayes import MultinomialNB\n",
    "from sklearn.pipeline import make_pipeline\n",
    "from sklearn.model_selection import train_test_split\n",
    "from sklearn.metrics import confusion_matrix,classification_report, accuracy_score,precision_score, recall_score, f1_score\n",
    "\n",
    "\n",
    "import transformers\n",
    "from transformers import logging as hf_logging\n",
    "from transformers import AutoTokenizer, AutoModel, TFAutoModel\n",
    "\n",
    "import tensorflow as tf\n",
    "from tensorflow.keras.utils import to_categorical\n",
    "from tensorflow.keras.models import Sequential, Model \n",
    "from tensorflow.keras.layers import Dense,Activation,Dropout, SpatialDropout1D \n",
    "from tensorflow.keras.layers import BatchNormalization, Input, Embedding, LSTM \n",
    "from tensorflow.keras.callbacks import ModelCheckpoint, ReduceLROnPlateau, EarlyStopping\n",
    "\n",
    "hf_logging.set_verbosity_error() # Hidding Huggingface Warnings"
   ]
  },
  {
   "cell_type": "markdown",
   "id": "bbb1abd3",
   "metadata": {},
   "source": [
    "## Read Data"
   ]
  },
  {
   "cell_type": "code",
   "execution_count": 4,
   "id": "9d5356f0",
   "metadata": {},
   "outputs": [],
   "source": [
    "path='dataset/Vietnamese Text Readability Corpus/'"
   ]
  },
  {
   "cell_type": "code",
   "execution_count": 5,
   "id": "abdd3c90",
   "metadata": {},
   "outputs": [],
   "source": [
    "def read_text_files(files):\n",
    "  data=pd.DataFrame()\n",
    "  texts=[]\n",
    "  labels=[]\n",
    "\n",
    "  path=os.path.join(files, '*.txt')\n",
    "\n",
    "  for txt_file in glob.glob(path):\n",
    "    lbl=txt_file.split('/')[-1].split('\\\\')[-1].split('_')[0]\n",
    "#     print(lbl)\n",
    "    text=open(txt_file,'r', encoding=\"utf8\").read().replace('\\n',' ')\n",
    "\n",
    "    texts.append(text)\n",
    "    labels.append(lbl)\n",
    "  data['text']=texts\n",
    "  data['label']=labels\n",
    "  return data"
   ]
  },
  {
   "cell_type": "code",
   "execution_count": 6,
   "id": "3a3981bb",
   "metadata": {},
   "outputs": [
    {
     "data": {
      "text/plain": [
       "0    Khái niệm diễn ngôn trong nghiên cứu văn học h...\n",
       "1    Tư tưởng nữ học của Đạm Phương nữ sử Trong bài...\n",
       "2    Bí thuật của nghề nghiệp 1 . Người muốn là xạ ...\n",
       "3    Vài suy tư về Kafka Tác phẩm của Kafka là một ...\n",
       "4    Người kể chuyện tự ý thức trong Nỗi buồn chiến...\n",
       "Name: text, dtype: object"
      ]
     },
     "execution_count": 6,
     "metadata": {},
     "output_type": "execute_result"
    }
   ],
   "source": [
    "df = read_text_files(path)\n",
    "df['text'].head()"
   ]
  },
  {
   "cell_type": "code",
   "execution_count": 7,
   "id": "020aedc8",
   "metadata": {},
   "outputs": [],
   "source": [
    "df.to_csv(\"dataset.csv\", index=False)"
   ]
  },
  {
   "cell_type": "markdown",
   "id": "80003ac7",
   "metadata": {},
   "source": [
    "# Preprocessing\n",
    "## GPU Check"
   ]
  },
  {
   "cell_type": "code",
   "execution_count": 8,
   "id": "a6b4c4eb",
   "metadata": {},
   "outputs": [],
   "source": [
    "gpus = tf.config.experimental.list_physical_devices('GPU')"
   ]
  },
  {
   "cell_type": "markdown",
   "id": "40d8af7b",
   "metadata": {},
   "source": [
    "## Utils Functions"
   ]
  },
  {
   "cell_type": "code",
   "execution_count": 9,
   "id": "faff4835",
   "metadata": {},
   "outputs": [],
   "source": [
    "def count_digit(num):\n",
    "    count = 0\n",
    "    while num != 0:\n",
    "        num //= 10\n",
    "        count += 1\n",
    "    return count\n",
    "\n",
    "def check_shape(df):\n",
    "    rows, cols = df.shape\n",
    "    print(\"\\nNumber or rows in dataset: {}\".format(rows))\n",
    "    print(\"==========================={}\".format(count_digit(rows)*'='))\n",
    "    print(\"\\nNumber or columns in dataset: {}\".format(cols))\n",
    "    print(\"=============================={}\".format(count_digit(cols)*'='))\n",
    "    \n",
    "def modelEvaluation(predictions, y_test_set, model_name, classes):\n",
    "    # Print model evaluation to predicted result    \n",
    "    print(\"==========\",model_name,\"==========\")\n",
    "    print (\"\\nAccuracy on validation set: {:.4f}\".format(accuracy_score(y_test_set, predictions)))    \n",
    "    print (\"\\nClassification report : \\n\", classification_report(y_test_set, predictions, target_names = classes))\n",
    "#     print (\"\\nConfusion Matrix : \\n\", confusion_matrix(y_test_set,predictions))\n",
    "    sns.heatmap(confusion_matrix(y_test_set, predictions),annot=True,yticklabels=classes, xticklabels=classes, fmt='g',cmap='jet')\n",
    "   \n",
    "    plt.tight_layout()\n",
    "    plt.show()\n",
    "    results = [accuracy_score(y_test_set, predictions), precision_score(y_test_set, predictions,average='macro'),\n",
    "              recall_score(y_test_set, predictions,average='macro'),f1_score(y_test_set, predictions,average='macro')]#store results of model\n",
    "    return results"
   ]
  },
  {
   "cell_type": "markdown",
   "id": "3016b4d8",
   "metadata": {},
   "source": [
    "## Text Cleaning"
   ]
  },
  {
   "cell_type": "code",
   "execution_count": 10,
   "id": "6a779512",
   "metadata": {},
   "outputs": [],
   "source": [
    "df['text'] = df['text'].apply(\n",
    "    lambda x: \" \".join(x.lower() for x in x.split()))  # lower case conversion\n",
    "df['text'] = df['text'].str.replace('[^\\w\\s]', '')  # getting rid of special characters\n",
    "df['text'] = df['text'].str.replace('\\d+',\n",
    "                                                        '')  # removing numeric values from between the words\n",
    "df['text'] = df['text'].apply(\n",
    "    lambda x: x.translate(string.digits))  # removing numerical numbers\n",
    "stop = stopwords.words('english')\n",
    "df['text'] = df['text'].apply(\n",
    "    lambda x: \" \".join(x for x in x.split() if x not in stop))  # removing stop words"
   ]
  },
  {
   "cell_type": "markdown",
   "id": "1190026d",
   "metadata": {},
   "source": [
    "## Class Distribution Analysis"
   ]
  },
  {
   "cell_type": "code",
   "execution_count": 11,
   "id": "0c9c1bb3",
   "metadata": {},
   "outputs": [
    {
     "data": {
      "text/plain": [
       "veryeasy     809\n",
       "easy         453\n",
       "difficult    321\n",
       "medium       242\n",
       "Name: label, dtype: int64"
      ]
     },
     "execution_count": 11,
     "metadata": {},
     "output_type": "execute_result"
    },
    {
     "data": {
      "image/png": "[encoded data removed]",
      "text/plain": [
       "<Figure size 432x288 with 1 Axes>"
      ]
     },
     "metadata": {},
     "output_type": "display_data"
    }
   ],
   "source": [
    "reorder = ['veryeasy', 'easy', 'medium', 'difficult']\n",
    "\n",
    "plt.style.use('ggplot')\n",
    "df.value_counts('label').reindex(index=reorder).plot(kind='bar')\n",
    "plt.xticks(rotation=45, horizontalalignment='right')\n",
    "plt.title('Training Dataset')\n",
    "plt.ylabel('Counts')\n",
    "df.label.value_counts()"
   ]
  },
  {
   "cell_type": "code",
   "execution_count": 12,
   "id": "fb27194e",
   "metadata": {},
   "outputs": [
    {
     "data": {
      "image/png": "[encoded data removed]",
      "text/plain": [
       "<Figure size 432x288 with 1 Axes>"
      ]
     },
     "metadata": {},
     "output_type": "display_data"
    }
   ],
   "source": [
    "classes_counts = df.value_counts('label')\n",
    "values = np.array(classes_counts)\n",
    "mylabels = list(classes_counts.index)\n",
    "\n",
    "plt.pie(values, labels = mylabels)\n",
    "plt.legend()\n",
    "plt.title('Dataset Class Distribution')\n",
    "# plt.ylabel('Counts')\n",
    "plt.show() \n"
   ]
  },
  {
   "cell_type": "markdown",
   "id": "288d8736",
   "metadata": {},
   "source": [
    "## Most Frequently Used Word Analysis"
   ]
  },
  {
   "cell_type": "code",
   "execution_count": 13,
   "id": "ed00453e",
   "metadata": {},
   "outputs": [
    {
     "data": {
      "text/plain": [
       "Text(0, 0.5, 'Counts')"
      ]
     },
     "execution_count": 13,
     "metadata": {},
     "output_type": "execute_result"
    },
    {
     "data": {
      "image/png": "[encoded data removed]",
      "text/plain": [
       "<Figure size 432x288 with 1 Axes>"
      ]
     },
     "metadata": {},
     "output_type": "display_data"
    }
   ],
   "source": [
    "taxfreq = pd.Series(' '.join(df['text']).split()).value_counts()[:10]\n",
    "taxfreq.plot(kind='bar')\n",
    "plt.xticks(rotation=45, horizontalalignment='right')\n",
    "plt.title('Mostly Used Words')\n",
    "plt.ylabel('Counts')"
   ]
  },
  {
   "cell_type": "markdown",
   "id": "97966599",
   "metadata": {},
   "source": [
    "## Label Encoder"
   ]
  },
  {
   "cell_type": "code",
   "execution_count": 14,
   "id": "5126bd4f",
   "metadata": {},
   "outputs": [
    {
     "data": {
      "text/html": [
       "<div>\n",
       "<style scoped>\n",
       "    .dataframe tbody tr th:only-of-type {\n",
       "        vertical-align: middle;\n",
       "    }\n",
       "\n",
       "    .dataframe tbody tr th {\n",
       "        vertical-align: top;\n",
       "    }\n",
       "\n",
       "    .dataframe thead th {\n",
       "        text-align: right;\n",
       "    }\n",
       "</style>\n",
       "<table border=\"1\" class=\"dataframe\">\n",
       "  <thead>\n",
       "    <tr style=\"text-align: right;\">\n",
       "      <th></th>\n",
       "      <th>text</th>\n",
       "      <th>label</th>\n",
       "      <th>encoded_label</th>\n",
       "    </tr>\n",
       "  </thead>\n",
       "  <tbody>\n",
       "    <tr>\n",
       "      <th>0</th>\n",
       "      <td>khái niệm diễn ngôn trong nghiên cứu văn học h...</td>\n",
       "      <td>difficult</td>\n",
       "      <td>0</td>\n",
       "    </tr>\n",
       "    <tr>\n",
       "      <th>1</th>\n",
       "      <td>tư tưởng nữ học của đạm phương nữ sử trong bài...</td>\n",
       "      <td>difficult</td>\n",
       "      <td>0</td>\n",
       "    </tr>\n",
       "    <tr>\n",
       "      <th>2</th>\n",
       "      <td>bí thuật của nghề nghiệp người muốn là xạ thủ ...</td>\n",
       "      <td>difficult</td>\n",
       "      <td>0</td>\n",
       "    </tr>\n",
       "    <tr>\n",
       "      <th>3</th>\n",
       "      <td>vài suy tư về kafka tác phẩm của kafka là một ...</td>\n",
       "      <td>difficult</td>\n",
       "      <td>0</td>\n",
       "    </tr>\n",
       "    <tr>\n",
       "      <th>4</th>\n",
       "      <td>người kể chuyện tự ý thức trong nỗi buồn chiến...</td>\n",
       "      <td>difficult</td>\n",
       "      <td>0</td>\n",
       "    </tr>\n",
       "  </tbody>\n",
       "</table>\n",
       "</div>"
      ],
      "text/plain": [
       "                                                text      label  encoded_label\n",
       "0  khái niệm diễn ngôn trong nghiên cứu văn học h...  difficult              0\n",
       "1  tư tưởng nữ học của đạm phương nữ sử trong bài...  difficult              0\n",
       "2  bí thuật của nghề nghiệp người muốn là xạ thủ ...  difficult              0\n",
       "3  vài suy tư về kafka tác phẩm của kafka là một ...  difficult              0\n",
       "4  người kể chuyện tự ý thức trong nỗi buồn chiến...  difficult              0"
      ]
     },
     "execution_count": 14,
     "metadata": {},
     "output_type": "execute_result"
    }
   ],
   "source": [
    "le = LabelEncoder()\n",
    "df['encoded_label'] = le.fit_transform(df['label'])\n",
    "df.head()"
   ]
  },
  {
   "cell_type": "markdown",
   "id": "ce1e6605",
   "metadata": {},
   "source": [
    "## Feature Extraction"
   ]
  },
  {
   "cell_type": "code",
   "execution_count": 15,
   "id": "8f27887b",
   "metadata": {},
   "outputs": [],
   "source": [
    "from sklearn.feature_extraction.text import TfidfVectorizer\n",
    "\n",
    "vectorizer = TfidfVectorizer(max_features=200)\n",
    "X = vectorizer.fit_transform(df['text'])\n",
    "y = df['encoded_label']"
   ]
  },
  {
   "cell_type": "markdown",
   "id": "fb2be316",
   "metadata": {},
   "source": [
    "## Train Test Split"
   ]
  },
  {
   "cell_type": "code",
   "execution_count": 16,
   "id": "e316d078",
   "metadata": {},
   "outputs": [],
   "source": [
    "X = vectorizer.fit_transform(df['text'])\n",
    "y = df['label']\n",
    "\n",
    "X_train,X_test,y_train,y_test = train_test_split(X,y,test_size=0.2,random_state=123)\n",
    "X_train,X_val,y_train,y_val = train_test_split(X_train, y_train, test_size=0.1, random_state=123)"
   ]
  },
  {
   "cell_type": "code",
   "execution_count": 17,
   "id": "3570187a",
   "metadata": {},
   "outputs": [
    {
     "data": {
      "text/plain": [
       "Text(0.5, 0, 'Documnet Label')"
      ]
     },
     "execution_count": 17,
     "metadata": {},
     "output_type": "execute_result"
    },
    {
     "data": {
      "image/png": "[encoded data removed]",
      "text/plain": [
       "<Figure size 432x288 with 1 Axes>"
      ]
     },
     "metadata": {},
     "output_type": "display_data"
    }
   ],
   "source": [
    "y_train.value_counts('label').reindex(index=reorder).plot(kind='bar', width=0.3)\n",
    "# plt.sca(ax1)\n",
    "plt.xticks(rotation=45, horizontalalignment='right')\n",
    "plt.title('Training Dataset')\n",
    "plt.ylabel('Counts')\n",
    "plt.xlabel('Documnet Label')"
   ]
  },
  {
   "cell_type": "code",
   "execution_count": 18,
   "id": "73277718",
   "metadata": {},
   "outputs": [
    {
     "data": {
      "text/plain": [
       "Text(0.5, 0, 'Documnet Label')"
      ]
     },
     "execution_count": 18,
     "metadata": {},
     "output_type": "execute_result"
    },
    {
     "data": {
      "image/png": "[encoded data removed]",
      "text/plain": [
       "<Figure size 432x288 with 1 Axes>"
      ]
     },
     "metadata": {},
     "output_type": "display_data"
    }
   ],
   "source": [
    "reorder = ['veryeasy', 'easy', 'medium', 'difficult']\n",
    "\n",
    "\n",
    "y_test.value_counts('label').reindex(index=reorder).plot(kind='bar', width=0.3)\n",
    "# plt.sca(ax2)\n",
    "plt.xticks(rotation=45, horizontalalignment='right')\n",
    "plt.title('Testing Dataset')\n",
    "plt.xlabel('Documnet Label')\n"
   ]
  },
  {
   "cell_type": "code",
   "execution_count": 19,
   "id": "239f1f11",
   "metadata": {},
   "outputs": [
    {
     "data": {
      "text/plain": [
       "Text(0.5, 0, 'Documnet Label')"
      ]
     },
     "execution_count": 19,
     "metadata": {},
     "output_type": "execute_result"
    },
    {
     "data": {
      "image/png": "[encoded data removed]",
      "text/plain": [
       "<Figure size 432x288 with 1 Axes>"
      ]
     },
     "metadata": {},
     "output_type": "display_data"
    }
   ],
   "source": [
    "y_val.value_counts('label').reindex(index=reorder).plot(kind='bar', width=0.3)\n",
    "# plt.sca(ax3)\n",
    "plt.xticks(rotation=45, horizontalalignment='right')\n",
    "plt.title('Validation Dataset')\n",
    "plt.xlabel('Documnet Label')"
   ]
  },
  {
   "cell_type": "code",
   "execution_count": 20,
   "id": "941ec9eb",
   "metadata": {},
   "outputs": [
    {
     "data": {
      "text/plain": [
       "1074    veryeasy\n",
       "354         easy\n",
       "1465    veryeasy\n",
       "769         easy\n",
       "478         easy\n",
       "          ...   \n",
       "1213    veryeasy\n",
       "1053    veryeasy\n",
       "438         easy\n",
       "576         easy\n",
       "720         easy\n",
       "Name: label, Length: 1314, dtype: object"
      ]
     },
     "execution_count": 20,
     "metadata": {},
     "output_type": "execute_result"
    }
   ],
   "source": [
    "y_train"
   ]
  },
  {
   "cell_type": "code",
   "execution_count": 21,
   "id": "7722c56a",
   "metadata": {},
   "outputs": [
    {
     "name": "stdout",
     "output_type": "stream",
     "text": [
      "\n",
      "Number or rows in dataset: 1314\n",
      "===============================\n",
      "\n",
      "Number or columns in dataset: 200\n",
      "=================================\n",
      "\n",
      "Number or rows in dataset: 365\n",
      "==============================\n",
      "\n",
      "Number or columns in dataset: 200\n",
      "=================================\n",
      "\n",
      "Number or rows in dataset: 146\n",
      "==============================\n",
      "\n",
      "Number or columns in dataset: 200\n",
      "=================================\n"
     ]
    }
   ],
   "source": [
    "X = vectorizer.fit_transform(df['text'])\n",
    "y = df['encoded_label']\n",
    "\n",
    "X_train,X_test,y_train,y_test = train_test_split(X,y,test_size=0.2,random_state=123)\n",
    "X_train,X_val,y_train,y_val = train_test_split(X_train, y_train, test_size=0.1, random_state=123)\n",
    "\n",
    "check_shape(X_train)\n",
    "check_shape(X_test)\n",
    "check_shape(X_val)"
   ]
  },
  {
   "cell_type": "markdown",
   "id": "67556965",
   "metadata": {},
   "source": [
    "# Machine Learning"
   ]
  },
  {
   "cell_type": "code",
   "execution_count": 22,
   "id": "9ed71cfb",
   "metadata": {},
   "outputs": [],
   "source": [
    " classes = list(df.label.unique())\n",
    "collect_results_of_all_model= {\n",
    "    'Metrics':['accuracy','precision','recall','f1-score']\n",
    "}#dic form store results of all models"
   ]
  },
  {
   "cell_type": "markdown",
   "id": "e3e49966",
   "metadata": {},
   "source": [
    "## SVM Model"
   ]
  },
  {
   "cell_type": "code",
   "execution_count": 23,
   "id": "fe975156",
   "metadata": {},
   "outputs": [],
   "source": [
    "from sklearn.svm import SVC\n",
    "\n",
    "SVC_classifier = SVC(max_iter=200)\n",
    "SVC_classifier.fit(X_train,y_train)\n",
    "\n",
    "preds = SVC_classifier.predict(X_test)"
   ]
  },
  {
   "cell_type": "markdown",
   "id": "ab51b455",
   "metadata": {},
   "source": [
    "## Result"
   ]
  },
  {
   "cell_type": "code",
   "execution_count": 24,
   "id": "84f1b03b",
   "metadata": {},
   "outputs": [
    {
     "name": "stdout",
     "output_type": "stream",
     "text": [
      "========== SVC ==========\n",
      "\n",
      "Accuracy on validation set: 0.8575\n",
      "\n",
      "Classification report : \n",
      "               precision    recall  f1-score   support\n",
      "\n",
      "   difficult       0.91      1.00      0.95        69\n",
      "        easy       0.69      0.81      0.75        75\n",
      "      medium       0.68      0.34      0.45        44\n",
      "    veryeasy       0.94      0.95      0.94       177\n",
      "\n",
      "    accuracy                           0.86       365\n",
      "   macro avg       0.81      0.78      0.77       365\n",
      "weighted avg       0.85      0.86      0.85       365\n",
      "\n"
     ]
    },
    {
     "data": {
      "image/png": "[encoded data removed]",
      "text/plain": [
       "<Figure size 432x288 with 2 Axes>"
      ]
     },
     "metadata": {},
     "output_type": "display_data"
    }
   ],
   "source": [
    "SVC_res=modelEvaluation(preds, y_test, 'SVC', classes)\n",
    "collect_results_of_all_model[\"SVC\"] = SVC_res"
   ]
  },
  {
   "cell_type": "markdown",
   "id": "1e3b1b66",
   "metadata": {},
   "source": [
    "## Random Forest"
   ]
  },
  {
   "cell_type": "code",
   "execution_count": 25,
   "id": "d469203e",
   "metadata": {},
   "outputs": [],
   "source": [
    "from sklearn.ensemble import RandomForestClassifier\n",
    "\n",
    "RF = RandomForestClassifier()\n",
    "RF_model=RF.fit(X_train,y_train)\n",
    "\n",
    "preds_RF = RF.predict(X_test)"
   ]
  },
  {
   "cell_type": "markdown",
   "id": "5420e28e",
   "metadata": {},
   "source": [
    "## Results"
   ]
  },
  {
   "cell_type": "code",
   "execution_count": 26,
   "id": "a69e16ec",
   "metadata": {},
   "outputs": [
    {
     "name": "stdout",
     "output_type": "stream",
     "text": [
      "========== RF_CLassifier ==========\n",
      "\n",
      "Accuracy on validation set: 0.9315\n",
      "\n",
      "Classification report : \n",
      "               precision    recall  f1-score   support\n",
      "\n",
      "   difficult       0.93      1.00      0.97        69\n",
      "        easy       0.82      0.96      0.88        75\n",
      "      medium       0.96      0.52      0.68        44\n",
      "    veryeasy       0.98      0.99      0.99       177\n",
      "\n",
      "    accuracy                           0.93       365\n",
      "   macro avg       0.92      0.87      0.88       365\n",
      "weighted avg       0.94      0.93      0.92       365\n",
      "\n"
     ]
    },
    {
     "data": {
      "image/png": "[encoded data removed]",
      "text/plain": [
       "<Figure size 432x288 with 2 Axes>"
      ]
     },
     "metadata": {},
     "output_type": "display_data"
    }
   ],
   "source": [
    "RF_res = modelEvaluation(preds_RF, y_test, 'RF_CLassifier', classes)\n",
    "collect_results_of_all_model[\"RF_CLassifier\"] = RF_res"
   ]
  },
  {
   "cell_type": "markdown",
   "id": "39ebce9f",
   "metadata": {},
   "source": [
    "## KNN Model"
   ]
  },
  {
   "cell_type": "code",
   "execution_count": 27,
   "id": "488b276e",
   "metadata": {},
   "outputs": [],
   "source": [
    "from sklearn.neighbors import KNeighborsClassifier\n",
    "\n",
    "neighbors_clf = KNeighborsClassifier(n_neighbors=5,)\n",
    "neighbors_clf.fit(X_train,y_train)\n",
    "\n",
    "KNN_preds = neighbors_clf.predict(X_test)"
   ]
  },
  {
   "cell_type": "markdown",
   "id": "eecfb228",
   "metadata": {},
   "source": [
    "## Results"
   ]
  },
  {
   "cell_type": "code",
   "execution_count": 28,
   "id": "f47a0bf4",
   "metadata": {},
   "outputs": [
    {
     "name": "stdout",
     "output_type": "stream",
     "text": [
      "========== KNN_test ==========\n",
      "\n",
      "Accuracy on validation set: 0.4740\n",
      "\n",
      "Classification report : \n",
      "               precision    recall  f1-score   support\n",
      "\n",
      "   difficult       0.85      1.00      0.92        69\n",
      "        easy       0.26      0.39      0.31        75\n",
      "      medium       0.24      0.68      0.35        44\n",
      "    veryeasy       0.98      0.25      0.40       177\n",
      "\n",
      "    accuracy                           0.47       365\n",
      "   macro avg       0.58      0.58      0.50       365\n",
      "weighted avg       0.72      0.47      0.48       365\n",
      "\n"
     ]
    },
    {
     "data": {
      "image/png": "[encoded data removed]",
      "text/plain": [
       "<Figure size 432x288 with 2 Axes>"
      ]
     },
     "metadata": {},
     "output_type": "display_data"
    }
   ],
   "source": [
    "KNN_res = modelEvaluation(KNN_preds,y_test,'KNN_test',classes)\n",
    "collect_results_of_all_model[\"KNN\"] = KNN_res"
   ]
  },
  {
   "cell_type": "markdown",
   "id": "bf78683a",
   "metadata": {},
   "source": [
    "## Customize CNN"
   ]
  },
  {
   "cell_type": "code",
   "execution_count": 29,
   "id": "00dc6d61",
   "metadata": {},
   "outputs": [
    {
     "data": {
      "text/plain": [
       "1074    3\n",
       "354     1\n",
       "1465    3\n",
       "769     1\n",
       "478     1\n",
       "       ..\n",
       "1213    3\n",
       "1053    3\n",
       "438     1\n",
       "576     1\n",
       "720     1\n",
       "Name: encoded_label, Length: 1314, dtype: int32"
      ]
     },
     "execution_count": 29,
     "metadata": {},
     "output_type": "execute_result"
    }
   ],
   "source": [
    "y_train"
   ]
  },
  {
   "cell_type": "code",
   "execution_count": 30,
   "id": "f4baa6fb",
   "metadata": {},
   "outputs": [],
   "source": [
    "y_train1 = to_categorical(y_train, num_classes=4)\n",
    "y_test1 = to_categorical(y_test, num_classes=4)\n",
    "y_val1 = to_categorical(y_val, num_classes=4)"
   ]
  },
  {
   "cell_type": "code",
   "execution_count": 31,
   "id": "51054626",
   "metadata": {},
   "outputs": [],
   "source": [
    "X_train = X_train.toarray()\n",
    "X_test = X_test.toarray()\n",
    "X_val = X_val.toarray()"
   ]
  },
  {
   "cell_type": "code",
   "execution_count": 32,
   "id": "4570810d",
   "metadata": {},
   "outputs": [
    {
     "name": "stdout",
     "output_type": "stream",
     "text": [
      "Model: \"sequential\"\n",
      "_________________________________________________________________\n",
      " Layer (type)                Output Shape              Param #   \n",
      "=================================================================\n",
      " dense (Dense)               (None, 150)               30150     \n",
      "                                                                 \n",
      " dense_1 (Dense)             (None, 100)               15100     \n",
      "                                                                 \n",
      " dense_2 (Dense)             (None, 50)                5050      \n",
      "                                                                 \n",
      " dense_3 (Dense)             (None, 25)                1275      \n",
      "                                                                 \n",
      " dense_4 (Dense)             (None, 15)                390       \n",
      "                                                                 \n",
      " dense_5 (Dense)             (None, 10)                160       \n",
      "                                                                 \n",
      " dense_6 (Dense)             (None, 4)                 44        \n",
      "                                                                 \n",
      "=================================================================\n",
      "Total params: 52,169\n",
      "Trainable params: 52,169\n",
      "Non-trainable params: 0\n",
      "_________________________________________________________________\n",
      "None\n"
     ]
    }
   ],
   "source": [
    "model = Sequential()\n",
    "model.add(Dense(150, input_shape=(X.shape[1],), activation='relu')) # Add an input shape! (features,)\n",
    "model.add(Dense(100, activation='relu'))\n",
    "model.add(Dense(50, activation='relu'))\n",
    "model.add(Dense(25, activation='relu'))\n",
    "model.add(Dense(15, activation='relu'))\n",
    "model.add(Dense(10, activation='relu'))\n",
    "model.add(Dense(4,activation='softmax'))\n",
    "model.compile(loss = 'categorical_crossentropy', optimizer='adam',metrics = ['accuracy'])\n",
    "print(model.summary())"
   ]
  },
  {
   "cell_type": "code",
   "execution_count": 33,
   "id": "ea9acad4",
   "metadata": {},
   "outputs": [
    {
     "name": "stdout",
     "output_type": "stream",
     "text": [
      "Epoch 1/15\n",
      "42/42 [==============================] - 3s 22ms/step - loss: 1.2542 - accuracy: 0.5845 - val_loss: 1.1025 - val_accuracy: 0.5205\n",
      "Epoch 2/15\n",
      "42/42 [==============================] - 0s 4ms/step - loss: 0.9065 - accuracy: 0.6393 - val_loss: 0.8394 - val_accuracy: 0.7260\n",
      "Epoch 3/15\n",
      "42/42 [==============================] - 0s 2ms/step - loss: 0.7184 - accuracy: 0.7336 - val_loss: 0.7700 - val_accuracy: 0.7055\n",
      "Epoch 4/15\n",
      "42/42 [==============================] - 0s 3ms/step - loss: 0.6215 - accuracy: 0.7763 - val_loss: 0.7070 - val_accuracy: 0.7740\n",
      "Epoch 5/15\n",
      "42/42 [==============================] - 0s 3ms/step - loss: 0.5648 - accuracy: 0.8128 - val_loss: 0.7183 - val_accuracy: 0.8082\n",
      "Epoch 6/15\n",
      "42/42 [==============================] - 0s 6ms/step - loss: 0.5090 - accuracy: 0.8417 - val_loss: 0.6584 - val_accuracy: 0.8014\n",
      "Epoch 7/15\n",
      "42/42 [==============================] - 1s 15ms/step - loss: 0.4826 - accuracy: 0.8554 - val_loss: 0.6212 - val_accuracy: 0.7740\n",
      "Epoch 8/15\n",
      "42/42 [==============================] - 0s 4ms/step - loss: 0.4137 - accuracy: 0.8828 - val_loss: 0.6429 - val_accuracy: 0.7877\n",
      "Epoch 9/15\n",
      "42/42 [==============================] - 0s 4ms/step - loss: 0.2908 - accuracy: 0.9384 - val_loss: 0.5171 - val_accuracy: 0.8082\n",
      "Epoch 10/15\n",
      "42/42 [==============================] - 0s 4ms/step - loss: 0.2093 - accuracy: 0.9254 - val_loss: 0.4479 - val_accuracy: 0.8356\n",
      "Epoch 11/15\n",
      "42/42 [==============================] - 0s 3ms/step - loss: 0.1272 - accuracy: 0.9619 - val_loss: 0.6021 - val_accuracy: 0.8288\n",
      "Epoch 12/15\n",
      "42/42 [==============================] - 0s 4ms/step - loss: 0.1160 - accuracy: 0.9627 - val_loss: 0.4847 - val_accuracy: 0.8562\n",
      "Epoch 13/15\n",
      "42/42 [==============================] - 0s 4ms/step - loss: 0.1640 - accuracy: 0.9391 - val_loss: 0.4620 - val_accuracy: 0.8562\n",
      "Epoch 14/15\n",
      "42/42 [==============================] - 0s 5ms/step - loss: 0.0733 - accuracy: 0.9787 - val_loss: 0.6221 - val_accuracy: 0.8288\n",
      "Epoch 15/15\n",
      "42/42 [==============================] - 0s 4ms/step - loss: 0.1662 - accuracy: 0.9338 - val_loss: 0.6025 - val_accuracy: 0.8082\n"
     ]
    },
    {
     "data": {
      "text/plain": [
       "<keras.callbacks.History at 0x250f26879d0>"
      ]
     },
     "execution_count": 33,
     "metadata": {},
     "output_type": "execute_result"
    }
   ],
   "source": [
    "batch_size = 32\n",
    "model.fit(X_train, y_train1, validation_data=(X_val, y_val1), epochs = 15, batch_size=batch_size, verbose = 1)"
   ]
  },
  {
   "cell_type": "markdown",
   "id": "a2cafdbb",
   "metadata": {},
   "source": [
    "## Results"
   ]
  },
  {
   "cell_type": "code",
   "execution_count": 34,
   "id": "a67ad49c",
   "metadata": {},
   "outputs": [
    {
     "name": "stdout",
     "output_type": "stream",
     "text": [
      "12/12 [==============================] - 0s 2ms/step\n"
     ]
    }
   ],
   "source": [
    "# make prediction using trained model\n",
    "predictions = model.predict(X_test)\n",
    "# calculate accuracy and other evaluation measures\n",
    "y_pred = [np.argmax(prediction) for prediction in predictions]"
   ]
  },
  {
   "cell_type": "code",
   "execution_count": 35,
   "id": "d0687a99",
   "metadata": {},
   "outputs": [
    {
     "name": "stdout",
     "output_type": "stream",
     "text": [
      "========== NN_test ==========\n",
      "\n",
      "Accuracy on validation set: 0.8329\n",
      "\n",
      "Classification report : \n",
      "               precision    recall  f1-score   support\n",
      "\n",
      "   difficult       0.96      0.96      0.96        69\n",
      "        easy       0.62      0.71      0.66        75\n",
      "      medium       0.60      0.73      0.66        44\n",
      "    veryeasy       0.97      0.86      0.92       177\n",
      "\n",
      "    accuracy                           0.83       365\n",
      "   macro avg       0.79      0.81      0.80       365\n",
      "weighted avg       0.85      0.83      0.84       365\n",
      "\n"
     ]
    },
    {
     "data": {
      "image/png": "[encoded data removed]",
      "text/plain": [
       "<Figure size 432x288 with 2 Axes>"
      ]
     },
     "metadata": {},
     "output_type": "display_data"
    }
   ],
   "source": [
    "NN_res = modelEvaluation(y_pred, y_test,'NN_test',classes)\n",
    "collect_results_of_all_model[\"NN\"] = NN_res"
   ]
  },
  {
   "cell_type": "code",
   "execution_count": 36,
   "id": "a79f12db",
   "metadata": {},
   "outputs": [
    {
     "data": {
      "text/plain": [
       "[0.8575342465753425,\n",
       " 0.8053605557189062,\n",
       " 0.7758487416538264,\n",
       " 0.7746390187160754]"
      ]
     },
     "execution_count": 36,
     "metadata": {},
     "output_type": "execute_result"
    }
   ],
   "source": [
    "SVC_res"
   ]
  },
  {
   "cell_type": "code",
   "execution_count": 37,
   "id": "f27a0a5d",
   "metadata": {},
   "outputs": [],
   "source": [
    "collect_results_of_all_model[\"Roberta\"] = [0.9672342465753425, 0.9745642449907422, 0.9739278376990242, 0.9734472611754559]"
   ]
  },
  {
   "cell_type": "markdown",
   "id": "59b250a2",
   "metadata": {},
   "source": [
    "# Results Comparison\n",
    "## Comparison Table"
   ]
  },
  {
   "cell_type": "code",
   "execution_count": 38,
   "id": "ebc451b4",
   "metadata": {},
   "outputs": [
    {
     "name": "stdout",
     "output_type": "stream",
     "text": [
      "+-----------+----------+-----------------+----------+----------+-----------+\n",
      "| Metrics   |      SVC |   RF_CLassifier |      KNN |       NN |   Roberta |\n",
      "|-----------+----------+-----------------+----------+----------+-----------|\n",
      "| accuracy  | 0.857534 |        0.931507 | 0.473973 | 0.832877 |  0.967234 |\n",
      "| precision | 0.805361 |        0.923047 | 0.581784 | 0.787774 |  0.974564 |\n",
      "| recall    | 0.775849 |        0.869269 | 0.580681 | 0.813717 |  0.973928 |\n",
      "| f1-score  | 0.774639 |        0.878426 | 0.496672 | 0.797717 |  0.973447 |\n",
      "+-----------+----------+-----------------+----------+----------+-----------+\n"
     ]
    }
   ],
   "source": [
    "from tabulate import tabulate \n",
    "metrics_data_frame = pd.DataFrame(collect_results_of_all_model)#create dataframe\n",
    "metrics_data_frame = metrics_data_frame.set_index('Metrics')#set index\n",
    "# displaying the DataFrame\n",
    "print(tabulate(metrics_data_frame, headers = 'keys', tablefmt = 'psql'))#convert results in to table"
   ]
  },
  {
   "cell_type": "code",
   "execution_count": 39,
   "id": "cbb05830",
   "metadata": {},
   "outputs": [
    {
     "data": {
      "text/plain": [
       "Text(0.5, 0, 'Evaluation Measure')"
      ]
     },
     "execution_count": 39,
     "metadata": {},
     "output_type": "execute_result"
    },
    {
     "data": {
      "image/png": "[encoded data removed]",
      "text/plain": [
       "<Figure size 1440x720 with 1 Axes>"
      ]
     },
     "metadata": {},
     "output_type": "display_data"
    }
   ],
   "source": [
    "metrics_data_frame.plot(kind='bar', figsize=(20,10)) #sho comparison base of mertics\n",
    "plt.xticks(rotation=45, horizontalalignment='right')\n",
    "plt.title('Comparison Graph')\n",
    "plt.ylabel('Score')\n",
    "plt.xlabel(\"Evaluation Measure\")"
   ]
  },
  {
   "cell_type": "code",
   "execution_count": null,
   "id": "cc4e7e78",
   "metadata": {},
   "outputs": [],
   "source": []
  }
 ],
 "metadata": {
  "kernelspec": {
   "display_name": "Python 3 (ipykernel)",
   "language": "python",
   "name": "python3"
  },
  "language_info": {
   "codemirror_mode": {
    "name": "ipython",
    "version": 3
   },
   "file_extension": ".py",
   "mimetype": "text/x-python",
   "name": "python",
   "nbconvert_exporter": "python",
   "pygments_lexer": "ipython3",
   "version": "3.9.12"
  }
 },
 "nbformat": 4,
 "nbformat_minor": 5
}
