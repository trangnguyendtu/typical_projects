{
 "cells": [
  {
   "cell_type": "code",
   "execution_count": 1,
   "metadata": {},
   "outputs": [
    {
     "name": "stderr",
     "output_type": "stream",
     "text": [
      "[nltk_data] Downloading package stopwords to\n",
      "[nltk_data]     C:\\Users\\MSIs\\AppData\\Roaming\\nltk_data...\n",
      "[nltk_data]   Package stopwords is already up-to-date!\n",
      "[nltk_data] Downloading package wordnet to\n",
      "[nltk_data]     C:\\Users\\MSIs\\AppData\\Roaming\\nltk_data...\n",
      "[nltk_data]   Package wordnet is already up-to-date!\n"
     ]
    },
    {
     "data": {
      "text/plain": [
       "True"
      ]
     },
     "execution_count": 1,
     "metadata": {},
     "output_type": "execute_result"
    }
   ],
   "source": [
    "# run once\n",
    "import nltk\n",
    "nltk.download('stopwords')\n",
    "nltk.download('wordnet')"
   ]
  },
  {
   "cell_type": "code",
   "execution_count": 2,
   "metadata": {
    "executionInfo": {
     "elapsed": 9,
     "status": "ok",
     "timestamp": 1625212816856,
     "user": {
      "displayName": "Trong-Hung Huynh",
      "photoUrl": "",
      "userId": "05059296324934067674"
     },
     "user_tz": -420
    },
    "id": "4XE7BlS7Vih_"
   },
   "outputs": [],
   "source": [
    "import pandas as pd\n",
    "import numpy as np\n",
    "from collections import Counter\n",
    "import os\n",
    "import glob\n",
    "import string\n",
    "from sklearn.metrics import classification_report, confusion_matrix,accuracy_score, plot_confusion_matrix, precision_score, recall_score,r2_score, mean_squared_error, f1_score\n",
    "from sklearn.model_selection import cross_val_score\n",
    "import matplotlib.pyplot as plt\n",
    "import seaborn as sns\n",
    "from sklearn.svm import SVC\n",
    "from sklearn.ensemble import RandomForestClassifier\n",
    "\n",
    "import nltk\n",
    "from nltk.corpus import stopwords"
   ]
  },
  {
   "cell_type": "code",
   "execution_count": 3,
   "metadata": {},
   "outputs": [],
   "source": [
    "path='dataset/Vietnamese Text Readability Corpus/'"
   ]
  },
  {
   "cell_type": "code",
   "execution_count": 4,
   "metadata": {},
   "outputs": [],
   "source": [
    "def read_text_files(files):\n",
    "    \n",
    "    data=pd.DataFrame()\n",
    "    texts=[]\n",
    "    labels=[]\n",
    "\n",
    "    path=os.path.join(files, '*.txt')\n",
    "\n",
    "    for txt_file in glob.glob(path):\n",
    "        \n",
    "        lbl=txt_file.split('/')[-1].split('\\\\')[-1].split('_')[0]\n",
    "        #print(lbl)\n",
    "        text=open(txt_file,'r', encoding=\"utf8\").read().replace('\\n',' ')\n",
    "\n",
    "        texts.append(text)\n",
    "        labels.append(lbl)\n",
    "    data['text']=texts\n",
    "    data['label']=labels\n",
    "    return data"
   ]
  },
  {
   "cell_type": "code",
   "execution_count": 5,
   "metadata": {},
   "outputs": [
    {
     "data": {
      "text/html": [
       "<div>\n",
       "<style scoped>\n",
       "    .dataframe tbody tr th:only-of-type {\n",
       "        vertical-align: middle;\n",
       "    }\n",
       "\n",
       "    .dataframe tbody tr th {\n",
       "        vertical-align: top;\n",
       "    }\n",
       "\n",
       "    .dataframe thead th {\n",
       "        text-align: right;\n",
       "    }\n",
       "</style>\n",
       "<table border=\"1\" class=\"dataframe\">\n",
       "  <thead>\n",
       "    <tr style=\"text-align: right;\">\n",
       "      <th></th>\n",
       "      <th>text</th>\n",
       "      <th>label</th>\n",
       "    </tr>\n",
       "  </thead>\n",
       "  <tbody>\n",
       "    <tr>\n",
       "      <th>0</th>\n",
       "      <td>Khái niệm diễn ngôn trong nghiên cứu văn học h...</td>\n",
       "      <td>difficult</td>\n",
       "    </tr>\n",
       "    <tr>\n",
       "      <th>1</th>\n",
       "      <td>Tư tưởng nữ học của Đạm Phương nữ sử Trong bài...</td>\n",
       "      <td>difficult</td>\n",
       "    </tr>\n",
       "    <tr>\n",
       "      <th>2</th>\n",
       "      <td>Bí thuật của nghề nghiệp 1 . Người muốn là xạ ...</td>\n",
       "      <td>difficult</td>\n",
       "    </tr>\n",
       "    <tr>\n",
       "      <th>3</th>\n",
       "      <td>Vài suy tư về Kafka Tác phẩm của Kafka là một ...</td>\n",
       "      <td>difficult</td>\n",
       "    </tr>\n",
       "    <tr>\n",
       "      <th>4</th>\n",
       "      <td>Người kể chuyện tự ý thức trong Nỗi buồn chiến...</td>\n",
       "      <td>difficult</td>\n",
       "    </tr>\n",
       "    <tr>\n",
       "      <th>...</th>\n",
       "      <td>...</td>\n",
       "      <td>...</td>\n",
       "    </tr>\n",
       "    <tr>\n",
       "      <th>1820</th>\n",
       "      <td>&gt; Tôi là một chú chó ngoan ngoãn như bao chú c...</td>\n",
       "      <td>veryeasy</td>\n",
       "    </tr>\n",
       "    <tr>\n",
       "      <th>1821</th>\n",
       "      <td>Ngày khai trường đã đến , em có biết bao nhiêu...</td>\n",
       "      <td>veryeasy</td>\n",
       "    </tr>\n",
       "    <tr>\n",
       "      <th>1822</th>\n",
       "      <td>Sang mùa đông rồi , trời thật là giá rét , lạn...</td>\n",
       "      <td>veryeasy</td>\n",
       "    </tr>\n",
       "    <tr>\n",
       "      <th>1823</th>\n",
       "      <td>Cho ngày hôm nay Có hai ngày trong tuần chúng ...</td>\n",
       "      <td>veryeasy</td>\n",
       "    </tr>\n",
       "    <tr>\n",
       "      <th>1824</th>\n",
       "      <td>Free hugs Có một cô gái đi ngang một con đường...</td>\n",
       "      <td>veryeasy</td>\n",
       "    </tr>\n",
       "  </tbody>\n",
       "</table>\n",
       "<p>1825 rows × 2 columns</p>\n",
       "</div>"
      ],
      "text/plain": [
       "                                                   text      label\n",
       "0     Khái niệm diễn ngôn trong nghiên cứu văn học h...  difficult\n",
       "1     Tư tưởng nữ học của Đạm Phương nữ sử Trong bài...  difficult\n",
       "2     Bí thuật của nghề nghiệp 1 . Người muốn là xạ ...  difficult\n",
       "3     Vài suy tư về Kafka Tác phẩm của Kafka là một ...  difficult\n",
       "4     Người kể chuyện tự ý thức trong Nỗi buồn chiến...  difficult\n",
       "...                                                 ...        ...\n",
       "1820  > Tôi là một chú chó ngoan ngoãn như bao chú c...   veryeasy\n",
       "1821  Ngày khai trường đã đến , em có biết bao nhiêu...   veryeasy\n",
       "1822  Sang mùa đông rồi , trời thật là giá rét , lạn...   veryeasy\n",
       "1823  Cho ngày hôm nay Có hai ngày trong tuần chúng ...   veryeasy\n",
       "1824  Free hugs Có một cô gái đi ngang một con đường...   veryeasy\n",
       "\n",
       "[1825 rows x 2 columns]"
      ]
     },
     "execution_count": 5,
     "metadata": {},
     "output_type": "execute_result"
    }
   ],
   "source": [
    "df=read_text_files(path)\n",
    "df"
   ]
  },
  {
   "cell_type": "code",
   "execution_count": 6,
   "metadata": {
    "colab": {
     "base_uri": "https://localhost:8080/"
    },
    "executionInfo": {
     "elapsed": 17,
     "status": "ok",
     "timestamp": 1625212817197,
     "user": {
      "displayName": "Trong-Hung Huynh",
      "photoUrl": "",
      "userId": "05059296324934067674"
     },
     "user_tz": -420
    },
    "id": "0DQHupBQb_DF",
    "outputId": "6bac5f0e-b2b3-4a2a-9b08-6df8dd85d6b0"
   },
   "outputs": [
    {
     "data": {
      "text/plain": [
       "(1825, 2)"
      ]
     },
     "execution_count": 6,
     "metadata": {},
     "output_type": "execute_result"
    }
   ],
   "source": [
    "df.shape"
   ]
  },
  {
   "cell_type": "code",
   "execution_count": 7,
   "metadata": {},
   "outputs": [
    {
     "data": {
      "text/plain": [
       "veryeasy     809\n",
       "easy         453\n",
       "difficult    321\n",
       "medium       242\n",
       "Name: label, dtype: int64"
      ]
     },
     "execution_count": 7,
     "metadata": {},
     "output_type": "execute_result"
    }
   ],
   "source": [
    "df['label'].value_counts()"
   ]
  },
  {
   "cell_type": "code",
   "execution_count": 8,
   "metadata": {},
   "outputs": [
    {
     "name": "stderr",
     "output_type": "stream",
     "text": [
      "C:\\Users\\MSIs\\AppData\\Local\\Temp\\ipykernel_34868\\4095906514.py:3: FutureWarning: The default value of regex will change from True to False in a future version.\n",
      "  df['text'] = df['text'].str.replace('[^\\w\\s]', '')  # getting rid of special characters\n",
      "C:\\Users\\MSIs\\AppData\\Local\\Temp\\ipykernel_34868\\4095906514.py:4: FutureWarning: The default value of regex will change from True to False in a future version.\n",
      "  df['text'] = df['text'].str.replace('\\d+', '')  # removing numeric values from between the words\n"
     ]
    }
   ],
   "source": [
    "df['text'] = df['text'].apply(\n",
    "    lambda x: \" \".join(x.lower() for x in x.split()))  # lower case conversion\n",
    "df['text'] = df['text'].str.replace('[^\\w\\s]', '')  # getting rid of special characters\n",
    "df['text'] = df['text'].str.replace('\\d+', '')  # removing numeric values from between the words\n",
    "df['text'] = df['text'].apply(\n",
    "    lambda x: x.translate(string.digits))  # removing numerical numbers\n",
    "stop = stopwords.words('english')\n",
    "df['text'] = df['text'].apply(\n",
    "    lambda x: \" \".join(x for x in x.split() if x not in stop))  # removing stop words"
   ]
  },
  {
   "cell_type": "code",
   "execution_count": 9,
   "metadata": {},
   "outputs": [
    {
     "data": {
      "text/html": [
       "<div>\n",
       "<style scoped>\n",
       "    .dataframe tbody tr th:only-of-type {\n",
       "        vertical-align: middle;\n",
       "    }\n",
       "\n",
       "    .dataframe tbody tr th {\n",
       "        vertical-align: top;\n",
       "    }\n",
       "\n",
       "    .dataframe thead th {\n",
       "        text-align: right;\n",
       "    }\n",
       "</style>\n",
       "<table border=\"1\" class=\"dataframe\">\n",
       "  <thead>\n",
       "    <tr style=\"text-align: right;\">\n",
       "      <th></th>\n",
       "      <th>text</th>\n",
       "      <th>label</th>\n",
       "    </tr>\n",
       "  </thead>\n",
       "  <tbody>\n",
       "    <tr>\n",
       "      <th>0</th>\n",
       "      <td>khái niệm diễn ngôn trong nghiên cứu văn học h...</td>\n",
       "      <td>0</td>\n",
       "    </tr>\n",
       "    <tr>\n",
       "      <th>1</th>\n",
       "      <td>tư tưởng nữ học của đạm phương nữ sử trong bài...</td>\n",
       "      <td>0</td>\n",
       "    </tr>\n",
       "    <tr>\n",
       "      <th>2</th>\n",
       "      <td>bí thuật của nghề nghiệp người muốn là xạ thủ ...</td>\n",
       "      <td>0</td>\n",
       "    </tr>\n",
       "    <tr>\n",
       "      <th>3</th>\n",
       "      <td>vài suy tư về kafka tác phẩm của kafka là một ...</td>\n",
       "      <td>0</td>\n",
       "    </tr>\n",
       "    <tr>\n",
       "      <th>4</th>\n",
       "      <td>người kể chuyện tự ý thức trong nỗi buồn chiến...</td>\n",
       "      <td>0</td>\n",
       "    </tr>\n",
       "    <tr>\n",
       "      <th>...</th>\n",
       "      <td>...</td>\n",
       "      <td>...</td>\n",
       "    </tr>\n",
       "    <tr>\n",
       "      <th>1820</th>\n",
       "      <td>tôi là một chú chó ngoan ngoãn như bao chú chó...</td>\n",
       "      <td>3</td>\n",
       "    </tr>\n",
       "    <tr>\n",
       "      <th>1821</th>\n",
       "      <td>ngày khai trường đã đến em có biết bao nhiêu t...</td>\n",
       "      <td>3</td>\n",
       "    </tr>\n",
       "    <tr>\n",
       "      <th>1822</th>\n",
       "      <td>sang mùa đông rồi trời thật là giá rét lạnh bu...</td>\n",
       "      <td>3</td>\n",
       "    </tr>\n",
       "    <tr>\n",
       "      <th>1823</th>\n",
       "      <td>cho ngày hôm nay có hai ngày trong tuần chúng ...</td>\n",
       "      <td>3</td>\n",
       "    </tr>\n",
       "    <tr>\n",
       "      <th>1824</th>\n",
       "      <td>free hugs có một cô gái đi ngang một con đường...</td>\n",
       "      <td>3</td>\n",
       "    </tr>\n",
       "  </tbody>\n",
       "</table>\n",
       "<p>1825 rows × 2 columns</p>\n",
       "</div>"
      ],
      "text/plain": [
       "                                                   text  label\n",
       "0     khái niệm diễn ngôn trong nghiên cứu văn học h...      0\n",
       "1     tư tưởng nữ học của đạm phương nữ sử trong bài...      0\n",
       "2     bí thuật của nghề nghiệp người muốn là xạ thủ ...      0\n",
       "3     vài suy tư về kafka tác phẩm của kafka là một ...      0\n",
       "4     người kể chuyện tự ý thức trong nỗi buồn chiến...      0\n",
       "...                                                 ...    ...\n",
       "1820  tôi là một chú chó ngoan ngoãn như bao chú chó...      3\n",
       "1821  ngày khai trường đã đến em có biết bao nhiêu t...      3\n",
       "1822  sang mùa đông rồi trời thật là giá rét lạnh bu...      3\n",
       "1823  cho ngày hôm nay có hai ngày trong tuần chúng ...      3\n",
       "1824  free hugs có một cô gái đi ngang một con đường...      3\n",
       "\n",
       "[1825 rows x 2 columns]"
      ]
     },
     "execution_count": 9,
     "metadata": {},
     "output_type": "execute_result"
    }
   ],
   "source": [
    "from sklearn.preprocessing import LabelEncoder\n",
    "le = LabelEncoder()\n",
    "df['label'] = le.fit_transform(df['label'])\n",
    "df"
   ]
  },
  {
   "cell_type": "code",
   "execution_count": 10,
   "metadata": {},
   "outputs": [
    {
     "data": {
      "text/plain": [
       "array(['difficult', 'easy', 'medium', 'veryeasy'], dtype=object)"
      ]
     },
     "execution_count": 10,
     "metadata": {},
     "output_type": "execute_result"
    }
   ],
   "source": [
    "le.classes_"
   ]
  },
  {
   "cell_type": "code",
   "execution_count": 11,
   "metadata": {
    "executionInfo": {
     "elapsed": 448,
     "status": "ok",
     "timestamp": 1625212817630,
     "user": {
      "displayName": "Trong-Hung Huynh",
      "photoUrl": "",
      "userId": "05059296324934067674"
     },
     "user_tz": -420
    },
    "id": "zZ33gN9leVUx"
   },
   "outputs": [],
   "source": [
    "word = []\n",
    "punctuation = set({'.', '?', '!', ';', ':'})\n",
    "for text in df.text.values:\n",
    "    word.append([])\n",
    "    sent = []\n",
    "    text = text.split('\\n')\n",
    "    for t in text:\n",
    "        if t != \"\" and t != '\\n':\n",
    "            t = t.split()\n",
    "            if t[-1] not in punctuation:\n",
    "                t.append('.')\n",
    "            word[-1].extend(t)\n",
    "df['word'] = word"
   ]
  },
  {
   "cell_type": "code",
   "execution_count": 12,
   "metadata": {},
   "outputs": [
    {
     "data": {
      "text/html": [
       "<div>\n",
       "<style scoped>\n",
       "    .dataframe tbody tr th:only-of-type {\n",
       "        vertical-align: middle;\n",
       "    }\n",
       "\n",
       "    .dataframe tbody tr th {\n",
       "        vertical-align: top;\n",
       "    }\n",
       "\n",
       "    .dataframe thead th {\n",
       "        text-align: right;\n",
       "    }\n",
       "</style>\n",
       "<table border=\"1\" class=\"dataframe\">\n",
       "  <thead>\n",
       "    <tr style=\"text-align: right;\">\n",
       "      <th></th>\n",
       "      <th>text</th>\n",
       "      <th>label</th>\n",
       "      <th>word</th>\n",
       "    </tr>\n",
       "  </thead>\n",
       "  <tbody>\n",
       "    <tr>\n",
       "      <th>0</th>\n",
       "      <td>khái niệm diễn ngôn trong nghiên cứu văn học h...</td>\n",
       "      <td>0</td>\n",
       "      <td>[khái, niệm, diễn, ngôn, trong, nghiên, cứu, v...</td>\n",
       "    </tr>\n",
       "    <tr>\n",
       "      <th>1</th>\n",
       "      <td>tư tưởng nữ học của đạm phương nữ sử trong bài...</td>\n",
       "      <td>0</td>\n",
       "      <td>[tư, tưởng, nữ, học, của, đạm, phương, nữ, sử,...</td>\n",
       "    </tr>\n",
       "    <tr>\n",
       "      <th>2</th>\n",
       "      <td>bí thuật của nghề nghiệp người muốn là xạ thủ ...</td>\n",
       "      <td>0</td>\n",
       "      <td>[bí, thuật, của, nghề, nghiệp, người, muốn, là...</td>\n",
       "    </tr>\n",
       "    <tr>\n",
       "      <th>3</th>\n",
       "      <td>vài suy tư về kafka tác phẩm của kafka là một ...</td>\n",
       "      <td>0</td>\n",
       "      <td>[vài, suy, tư, về, kafka, tác, phẩm, của, kafk...</td>\n",
       "    </tr>\n",
       "    <tr>\n",
       "      <th>4</th>\n",
       "      <td>người kể chuyện tự ý thức trong nỗi buồn chiến...</td>\n",
       "      <td>0</td>\n",
       "      <td>[người, kể, chuyện, tự, ý, thức, trong, nỗi, b...</td>\n",
       "    </tr>\n",
       "    <tr>\n",
       "      <th>...</th>\n",
       "      <td>...</td>\n",
       "      <td>...</td>\n",
       "      <td>...</td>\n",
       "    </tr>\n",
       "    <tr>\n",
       "      <th>1820</th>\n",
       "      <td>tôi là một chú chó ngoan ngoãn như bao chú chó...</td>\n",
       "      <td>3</td>\n",
       "      <td>[tôi, là, một, chú, chó, ngoan, ngoãn, như, ba...</td>\n",
       "    </tr>\n",
       "    <tr>\n",
       "      <th>1821</th>\n",
       "      <td>ngày khai trường đã đến em có biết bao nhiêu t...</td>\n",
       "      <td>3</td>\n",
       "      <td>[ngày, khai, trường, đã, đến, em, có, biết, ba...</td>\n",
       "    </tr>\n",
       "    <tr>\n",
       "      <th>1822</th>\n",
       "      <td>sang mùa đông rồi trời thật là giá rét lạnh bu...</td>\n",
       "      <td>3</td>\n",
       "      <td>[sang, mùa, đông, rồi, trời, thật, là, giá, ré...</td>\n",
       "    </tr>\n",
       "    <tr>\n",
       "      <th>1823</th>\n",
       "      <td>cho ngày hôm nay có hai ngày trong tuần chúng ...</td>\n",
       "      <td>3</td>\n",
       "      <td>[cho, ngày, hôm, nay, có, hai, ngày, trong, tu...</td>\n",
       "    </tr>\n",
       "    <tr>\n",
       "      <th>1824</th>\n",
       "      <td>free hugs có một cô gái đi ngang một con đường...</td>\n",
       "      <td>3</td>\n",
       "      <td>[free, hugs, có, một, cô, gái, đi, ngang, một,...</td>\n",
       "    </tr>\n",
       "  </tbody>\n",
       "</table>\n",
       "<p>1825 rows × 3 columns</p>\n",
       "</div>"
      ],
      "text/plain": [
       "                                                   text  label  \\\n",
       "0     khái niệm diễn ngôn trong nghiên cứu văn học h...      0   \n",
       "1     tư tưởng nữ học của đạm phương nữ sử trong bài...      0   \n",
       "2     bí thuật của nghề nghiệp người muốn là xạ thủ ...      0   \n",
       "3     vài suy tư về kafka tác phẩm của kafka là một ...      0   \n",
       "4     người kể chuyện tự ý thức trong nỗi buồn chiến...      0   \n",
       "...                                                 ...    ...   \n",
       "1820  tôi là một chú chó ngoan ngoãn như bao chú chó...      3   \n",
       "1821  ngày khai trường đã đến em có biết bao nhiêu t...      3   \n",
       "1822  sang mùa đông rồi trời thật là giá rét lạnh bu...      3   \n",
       "1823  cho ngày hôm nay có hai ngày trong tuần chúng ...      3   \n",
       "1824  free hugs có một cô gái đi ngang một con đường...      3   \n",
       "\n",
       "                                                   word  \n",
       "0     [khái, niệm, diễn, ngôn, trong, nghiên, cứu, v...  \n",
       "1     [tư, tưởng, nữ, học, của, đạm, phương, nữ, sử,...  \n",
       "2     [bí, thuật, của, nghề, nghiệp, người, muốn, là...  \n",
       "3     [vài, suy, tư, về, kafka, tác, phẩm, của, kafk...  \n",
       "4     [người, kể, chuyện, tự, ý, thức, trong, nỗi, b...  \n",
       "...                                                 ...  \n",
       "1820  [tôi, là, một, chú, chó, ngoan, ngoãn, như, ba...  \n",
       "1821  [ngày, khai, trường, đã, đến, em, có, biết, ba...  \n",
       "1822  [sang, mùa, đông, rồi, trời, thật, là, giá, ré...  \n",
       "1823  [cho, ngày, hôm, nay, có, hai, ngày, trong, tu...  \n",
       "1824  [free, hugs, có, một, cô, gái, đi, ngang, một,...  \n",
       "\n",
       "[1825 rows x 3 columns]"
      ]
     },
     "execution_count": 12,
     "metadata": {},
     "output_type": "execute_result"
    }
   ],
   "source": [
    "df"
   ]
  },
  {
   "cell_type": "code",
   "execution_count": 13,
   "metadata": {
    "executionInfo": {
     "elapsed": 10,
     "status": "ok",
     "timestamp": 1625212817630,
     "user": {
      "displayName": "Trong-Hung Huynh",
      "photoUrl": "",
      "userId": "05059296324934067674"
     },
     "user_tz": -420
    },
    "id": "EokX3oTOfMN_"
   },
   "outputs": [],
   "source": [
    "punctuation_str = u\". , ; : ? !\"\n",
    "special_characters_str = u\"~ ` @ # $ % ^ & * ( ) - _ + = { } [ ] \\\\ | \\\" \\' < > / ‘ ’  “ ” … ° ″ ‰ ‱ ¶ § ‖ © ℗ ® ℠ ™\"\n",
    "indexing_characters_str = u\"I. II. III. IV. V. VI. VII. VIII. IX. X. XI. XII. 1. 2. 3. 4. 5. 6. 7. 8. 9. \\\n",
    "                            10. 11. 12. a) b) c) d) e) f) g) h) i) j) k) l) m) n) o) p) q) r) s) t) u) v w) x) y) z)\""
   ]
  },
  {
   "cell_type": "code",
   "execution_count": 14,
   "metadata": {
    "executionInfo": {
     "elapsed": 10,
     "status": "ok",
     "timestamp": 1625212817631,
     "user": {
      "displayName": "Trong-Hung Huynh",
      "photoUrl": "",
      "userId": "05059296324934067674"
     },
     "user_tz": -420
    },
    "id": "CqbwBFCefVWN"
   },
   "outputs": [],
   "source": [
    "punctuation_set = set(punctuation_str.split())\n",
    "special_character_set = set(special_characters_str.split())\n",
    "indexing_character_set = set(indexing_characters_str.split())"
   ]
  },
  {
   "cell_type": "code",
   "execution_count": 15,
   "metadata": {
    "executionInfo": {
     "elapsed": 10,
     "status": "ok",
     "timestamp": 1625212817631,
     "user": {
      "displayName": "Trong-Hung Huynh",
      "photoUrl": "",
      "userId": "05059296324934067674"
     },
     "user_tz": -420
    },
    "id": "481yMCMJfYf8"
   },
   "outputs": [
    {
     "name": "stdout",
     "output_type": "stream",
     "text": [
      "(3000,)\n"
     ]
    }
   ],
   "source": [
    "# 3000 words\n",
    "most_used_words=[]\n",
    "#most_used_words = set()\n",
    "with open('dataset/tan_suat_tu.txt','r',encoding='utf-8') as f:\n",
    "     for line in f.readlines():\n",
    "            most_used_words.append(line.split('\\t')[0])\n",
    "print(np.shape(most_used_words))"
   ]
  },
  {
   "cell_type": "code",
   "execution_count": 16,
   "metadata": {},
   "outputs": [
    {
     "name": "stdout",
     "output_type": "stream",
     "text": [
      "(3000,)\n"
     ]
    }
   ],
   "source": [
    "# 3000 syllables\n",
    "most_used_syls = []\n",
    "#most_used_syls = set()\n",
    "with open('dataset/tan_suat_tieng.txt',encoding=\"utf-8\") as f:\n",
    "    for line in f.readlines():\n",
    "        most_used_syls.append(line.split('\\t')[0])\n",
    "        #most_used_syls.add(line.split('\\t')[0])\n",
    "        if len(most_used_syls)==3000:\n",
    "            break\n",
    "print(np.shape(most_used_syls))\n"
   ]
  },
  {
   "cell_type": "code",
   "execution_count": 17,
   "metadata": {},
   "outputs": [
    {
     "name": "stdout",
     "output_type": "stream",
     "text": [
      "(3000,) (3000,)\n"
     ]
    }
   ],
   "source": [
    "print(np.shape(most_used_words),np.shape(most_used_syls))"
   ]
  },
  {
   "cell_type": "code",
   "execution_count": 18,
   "metadata": {
    "executionInfo": {
     "elapsed": 7,
     "status": "ok",
     "timestamp": 1625212817632,
     "user": {
      "displayName": "Trong-Hung Huynh",
      "photoUrl": "",
      "userId": "05059296324934067674"
     },
     "user_tz": -420
    },
    "id": "VCQJPRa-fbWQ"
   },
   "outputs": [
    {
     "name": "stdout",
     "output_type": "stream",
     "text": [
      "(3000,)\n"
     ]
    }
   ],
   "source": [
    "#sino_words = set()\n",
    "sino_words=[]\n",
    "with open('dataset/ds_han_viet.txt','r',encoding=\"utf-8\") as f:\n",
    "    for line in f.readlines():\n",
    "        sino_words.append(line.strip())\n",
    "        if len(sino_words)==3000:\n",
    "            break\n",
    "        #sino_words.add(line.strip())\n",
    "print(np.shape(sino_words))"
   ]
  },
  {
   "cell_type": "code",
   "execution_count": 19,
   "metadata": {
    "executionInfo": {
     "elapsed": 7,
     "status": "ok",
     "timestamp": 1625212817633,
     "user": {
      "displayName": "Trong-Hung Huynh",
      "photoUrl": "",
      "userId": "05059296324934067674"
     },
     "user_tz": -420
    },
    "id": "FAbvqkEAlJbO"
   },
   "outputs": [],
   "source": [
    "text = list(df.text.values)"
   ]
  },
  {
   "cell_type": "code",
   "execution_count": 20,
   "metadata": {},
   "outputs": [
    {
     "data": {
      "text/html": [
       "<div>\n",
       "<style scoped>\n",
       "    .dataframe tbody tr th:only-of-type {\n",
       "        vertical-align: middle;\n",
       "    }\n",
       "\n",
       "    .dataframe tbody tr th {\n",
       "        vertical-align: top;\n",
       "    }\n",
       "\n",
       "    .dataframe thead th {\n",
       "        text-align: right;\n",
       "    }\n",
       "</style>\n",
       "<table border=\"1\" class=\"dataframe\">\n",
       "  <thead>\n",
       "    <tr style=\"text-align: right;\">\n",
       "      <th></th>\n",
       "      <th>text</th>\n",
       "      <th>label</th>\n",
       "      <th>word</th>\n",
       "    </tr>\n",
       "  </thead>\n",
       "  <tbody>\n",
       "    <tr>\n",
       "      <th>0</th>\n",
       "      <td>khái niệm diễn ngôn trong nghiên cứu văn học h...</td>\n",
       "      <td>0</td>\n",
       "      <td>[khái, niệm, diễn, ngôn, trong, nghiên, cứu, v...</td>\n",
       "    </tr>\n",
       "    <tr>\n",
       "      <th>1</th>\n",
       "      <td>tư tưởng nữ học của đạm phương nữ sử trong bài...</td>\n",
       "      <td>0</td>\n",
       "      <td>[tư, tưởng, nữ, học, của, đạm, phương, nữ, sử,...</td>\n",
       "    </tr>\n",
       "    <tr>\n",
       "      <th>2</th>\n",
       "      <td>bí thuật của nghề nghiệp người muốn là xạ thủ ...</td>\n",
       "      <td>0</td>\n",
       "      <td>[bí, thuật, của, nghề, nghiệp, người, muốn, là...</td>\n",
       "    </tr>\n",
       "    <tr>\n",
       "      <th>3</th>\n",
       "      <td>vài suy tư về kafka tác phẩm của kafka là một ...</td>\n",
       "      <td>0</td>\n",
       "      <td>[vài, suy, tư, về, kafka, tác, phẩm, của, kafk...</td>\n",
       "    </tr>\n",
       "    <tr>\n",
       "      <th>4</th>\n",
       "      <td>người kể chuyện tự ý thức trong nỗi buồn chiến...</td>\n",
       "      <td>0</td>\n",
       "      <td>[người, kể, chuyện, tự, ý, thức, trong, nỗi, b...</td>\n",
       "    </tr>\n",
       "    <tr>\n",
       "      <th>...</th>\n",
       "      <td>...</td>\n",
       "      <td>...</td>\n",
       "      <td>...</td>\n",
       "    </tr>\n",
       "    <tr>\n",
       "      <th>1820</th>\n",
       "      <td>tôi là một chú chó ngoan ngoãn như bao chú chó...</td>\n",
       "      <td>3</td>\n",
       "      <td>[tôi, là, một, chú, chó, ngoan, ngoãn, như, ba...</td>\n",
       "    </tr>\n",
       "    <tr>\n",
       "      <th>1821</th>\n",
       "      <td>ngày khai trường đã đến em có biết bao nhiêu t...</td>\n",
       "      <td>3</td>\n",
       "      <td>[ngày, khai, trường, đã, đến, em, có, biết, ba...</td>\n",
       "    </tr>\n",
       "    <tr>\n",
       "      <th>1822</th>\n",
       "      <td>sang mùa đông rồi trời thật là giá rét lạnh bu...</td>\n",
       "      <td>3</td>\n",
       "      <td>[sang, mùa, đông, rồi, trời, thật, là, giá, ré...</td>\n",
       "    </tr>\n",
       "    <tr>\n",
       "      <th>1823</th>\n",
       "      <td>cho ngày hôm nay có hai ngày trong tuần chúng ...</td>\n",
       "      <td>3</td>\n",
       "      <td>[cho, ngày, hôm, nay, có, hai, ngày, trong, tu...</td>\n",
       "    </tr>\n",
       "    <tr>\n",
       "      <th>1824</th>\n",
       "      <td>free hugs có một cô gái đi ngang một con đường...</td>\n",
       "      <td>3</td>\n",
       "      <td>[free, hugs, có, một, cô, gái, đi, ngang, một,...</td>\n",
       "    </tr>\n",
       "  </tbody>\n",
       "</table>\n",
       "<p>1825 rows × 3 columns</p>\n",
       "</div>"
      ],
      "text/plain": [
       "                                                   text  label  \\\n",
       "0     khái niệm diễn ngôn trong nghiên cứu văn học h...      0   \n",
       "1     tư tưởng nữ học của đạm phương nữ sử trong bài...      0   \n",
       "2     bí thuật của nghề nghiệp người muốn là xạ thủ ...      0   \n",
       "3     vài suy tư về kafka tác phẩm của kafka là một ...      0   \n",
       "4     người kể chuyện tự ý thức trong nỗi buồn chiến...      0   \n",
       "...                                                 ...    ...   \n",
       "1820  tôi là một chú chó ngoan ngoãn như bao chú chó...      3   \n",
       "1821  ngày khai trường đã đến em có biết bao nhiêu t...      3   \n",
       "1822  sang mùa đông rồi trời thật là giá rét lạnh bu...      3   \n",
       "1823  cho ngày hôm nay có hai ngày trong tuần chúng ...      3   \n",
       "1824  free hugs có một cô gái đi ngang một con đường...      3   \n",
       "\n",
       "                                                   word  \n",
       "0     [khái, niệm, diễn, ngôn, trong, nghiên, cứu, v...  \n",
       "1     [tư, tưởng, nữ, học, của, đạm, phương, nữ, sử,...  \n",
       "2     [bí, thuật, của, nghề, nghiệp, người, muốn, là...  \n",
       "3     [vài, suy, tư, về, kafka, tác, phẩm, của, kafk...  \n",
       "4     [người, kể, chuyện, tự, ý, thức, trong, nỗi, b...  \n",
       "...                                                 ...  \n",
       "1820  [tôi, là, một, chú, chó, ngoan, ngoãn, như, ba...  \n",
       "1821  [ngày, khai, trường, đã, đến, em, có, biết, ba...  \n",
       "1822  [sang, mùa, đông, rồi, trời, thật, là, giá, ré...  \n",
       "1823  [cho, ngày, hôm, nay, có, hai, ngày, trong, tu...  \n",
       "1824  [free, hugs, có, một, cô, gái, đi, ngang, một,...  \n",
       "\n",
       "[1825 rows x 3 columns]"
      ]
     },
     "execution_count": 20,
     "metadata": {},
     "output_type": "execute_result"
    }
   ],
   "source": [
    "df"
   ]
  },
  {
   "cell_type": "code",
   "execution_count": 21,
   "metadata": {
    "executionInfo": {
     "elapsed": 2464,
     "status": "ok",
     "timestamp": 1625212820089,
     "user": {
      "displayName": "Trong-Hung Huynh",
      "photoUrl": "",
      "userId": "05059296324934067674"
     },
     "user_tz": -420
    },
    "id": "bl_xZpzdlbC2"
   },
   "outputs": [
    {
     "name": "stdout",
     "output_type": "stream",
     "text": [
      "(1825,)\n"
     ]
    },
    {
     "name": "stderr",
     "output_type": "stream",
     "text": [
      "C:\\Users\\MSIs\\anaconda3\\lib\\site-packages\\numpy\\core\\fromnumeric.py:1970: VisibleDeprecationWarning: Creating an ndarray from ragged nested sequences (which is a list-or-tuple of lists-or-tuples-or ndarrays with different lengths or shapes) is deprecated. If you meant to do this, you must specify 'dtype=object' when creating the ndarray.\n",
      "  result = asarray(a).shape\n"
     ]
    }
   ],
   "source": [
    "#dONE\n",
    "words_list = []\n",
    "for words in df.word.astype(object):\n",
    "    words_list.append([])\n",
    "    for word in words:\n",
    "        w = word.lower()\n",
    "        if not w.isdigit() and w not in punctuation_set and w not in special_character_set and w not in indexing_character_set:\n",
    "              words_list[-1].append(w)\n",
    "print(np.shape(words_list))"
   ]
  },
  {
   "cell_type": "code",
   "execution_count": 22,
   "metadata": {},
   "outputs": [
    {
     "name": "stdout",
     "output_type": "stream",
     "text": [
      "(1825,)\n"
     ]
    }
   ],
   "source": [
    "#DONE\n",
    "syls_list=[]\n",
    "for words in words_list:\n",
    "    syls = []\n",
    "    for word in words:\n",
    "        for syl in word.split('_'):\n",
    "            syls.append(syl)\n",
    "    syls_list.append(syls)\n",
    "        \n",
    "print(np.shape(syls_list))\n",
    "    "
   ]
  },
  {
   "cell_type": "code",
   "execution_count": 23,
   "metadata": {},
   "outputs": [
    {
     "name": "stdout",
     "output_type": "stream",
     "text": [
      "[[2 1 4]\n",
      " [5 1 2]]\n"
     ]
    }
   ],
   "source": [
    "import numpy as np\n",
    "\n",
    "#define matrices\n",
    "C = np.array([7, 5, 6, 3]).reshape(2, 2)\n",
    "D = np.array([2, 1, 4, 5, 1, 2]).reshape(2, 3)\n",
    "\n",
    "#perform matrix multiplication\n",
    "#C.dot(D)\n",
    "print(D)\n"
   ]
  },
  {
   "cell_type": "code",
   "execution_count": 24,
   "metadata": {
    "colab": {
     "base_uri": "https://localhost:8080/"
    },
    "executionInfo": {
     "elapsed": 23,
     "status": "ok",
     "timestamp": 1625212821226,
     "user": {
      "displayName": "Trong-Hung Huynh",
      "photoUrl": "",
      "userId": "05059296324934067674"
     },
     "user_tz": -420
    },
    "id": "wuLmztPOluuM",
    "outputId": "6d0f2cea-9c6b-4bd8-f9fe-2156dfdc543b"
   },
   "outputs": [
    {
     "data": {
      "text/plain": [
       "array([1, 1, 1, 1, 1])"
      ]
     },
     "execution_count": 24,
     "metadata": {},
     "output_type": "execute_result"
    }
   ],
   "source": [
    "# Number of Sentences\n",
    "NSen = np.array([len(t.split('\\n')) for t in text], dtype=int)\n",
    "NSen[:5]"
   ]
  },
  {
   "cell_type": "code",
   "execution_count": 25,
   "metadata": {
    "colab": {
     "base_uri": "https://localhost:8080/"
    },
    "executionInfo": {
     "elapsed": 20,
     "status": "ok",
     "timestamp": 1625212821228,
     "user": {
      "displayName": "Trong-Hung Huynh",
      "photoUrl": "",
      "userId": "05059296324934067674"
     },
     "user_tz": -420
    },
    "id": "JwyNFJCimNKY",
    "outputId": "c9e88de4-f5f4-4b37-be2a-a6209a001fe8"
   },
   "outputs": [
    {
     "data": {
      "text/plain": [
       "array([ 6826,  7078,  2962,  1962, 15288])"
      ]
     },
     "execution_count": 25,
     "metadata": {},
     "output_type": "execute_result"
    }
   ],
   "source": [
    "# Number of Words\n",
    "NWo = np.array([len(words) for words in words_list], dtype=int)\n",
    "NWo[:5]"
   ]
  },
  {
   "cell_type": "code",
   "execution_count": 26,
   "metadata": {
    "colab": {
     "base_uri": "https://localhost:8080/"
    },
    "executionInfo": {
     "elapsed": 17,
     "status": "ok",
     "timestamp": 1625212821229,
     "user": {
      "displayName": "Trong-Hung Huynh",
      "photoUrl": "",
      "userId": "05059296324934067674"
     },
     "user_tz": -420
    },
    "id": "bUqoi4SxmUeF",
    "outputId": "a22e8b9e-454e-4bd5-a6ca-07f3a991a831"
   },
   "outputs": [
    {
     "data": {
      "text/plain": [
       "array([ 6826,  7078,  2962,  1962, 15288])"
      ]
     },
     "execution_count": 26,
     "metadata": {},
     "output_type": "execute_result"
    }
   ],
   "source": [
    "# Number of Syllables\n",
    "NSyl = np.array([len(syls) for syls in syls_list], dtype=int)\n",
    "NSyl[:5]"
   ]
  },
  {
   "cell_type": "code",
   "execution_count": 27,
   "metadata": {
    "colab": {
     "base_uri": "https://localhost:8080/"
    },
    "executionInfo": {
     "elapsed": 521,
     "status": "ok",
     "timestamp": 1625212821737,
     "user": {
      "displayName": "Trong-Hung Huynh",
      "photoUrl": "",
      "userId": "05059296324934067674"
     },
     "user_tz": -420
    },
    "id": "S8bnn1Iumik9",
    "outputId": "649c170a-1acf-4958-f8ff-3fa9f87efa27"
   },
   "outputs": [
    {
     "data": {
      "text/plain": [
       "array([23780, 23416,  9744,  6607, 52654])"
      ]
     },
     "execution_count": 27,
     "metadata": {},
     "output_type": "execute_result"
    }
   ],
   "source": [
    "# Number of Characters\n",
    "NCha = np.array([sum([len(syl) for syl in syls]) for syls in syls_list], dtype=int)\n",
    "NCha[:5]"
   ]
  },
  {
   "cell_type": "code",
   "execution_count": 28,
   "metadata": {
    "colab": {
     "base_uri": "https://localhost:8080/"
    },
    "executionInfo": {
     "elapsed": 31,
     "status": "ok",
     "timestamp": 1625212821740,
     "user": {
      "displayName": "Trong-Hung Huynh",
      "photoUrl": "",
      "userId": "05059296324934067674"
     },
     "user_tz": -420
    },
    "id": "2A-PRKUloblm",
    "outputId": "2865fa80-2f80-4f55-ccab-a775bdce050f"
   },
   "outputs": [
    {
     "data": {
      "text/plain": [
       "array([ 853, 1107,  880,  595, 1390])"
      ]
     },
     "execution_count": 28,
     "metadata": {},
     "output_type": "execute_result"
    }
   ],
   "source": [
    "# Number of Distinct Words\n",
    "distinct_words = [Counter(words) for words in words_list]\n",
    "NDWo = np.array([len(w) for w in distinct_words], dtype=int)\n",
    "NDWo[:5]"
   ]
  },
  {
   "cell_type": "code",
   "execution_count": 29,
   "metadata": {
    "colab": {
     "base_uri": "https://localhost:8080/"
    },
    "executionInfo": {
     "elapsed": 24,
     "status": "ok",
     "timestamp": 1625212821741,
     "user": {
      "displayName": "Trong-Hung Huynh",
      "photoUrl": "",
      "userId": "05059296324934067674"
     },
     "user_tz": -420
    },
    "id": "ZozmoOPDmopG",
    "outputId": "15e60d23-3d53-4f63-ce64-47d05bcf0696"
   },
   "outputs": [
    {
     "data": {
      "text/plain": [
       "array([1., 1., 1., 1., 1.])"
      ]
     },
     "execution_count": 29,
     "metadata": {},
     "output_type": "execute_result"
    }
   ],
   "source": [
    "# Average Word Length calculated in Syllables\n",
    "AWLS = np.array(NSyl/NWo, dtype=float)\n",
    "AWLS[:5]"
   ]
  },
  {
   "cell_type": "code",
   "execution_count": 30,
   "metadata": {},
   "outputs": [],
   "source": [
    "# print(np.shape(n_difficult),np.shape(NWo))"
   ]
  },
  {
   "cell_type": "code",
   "execution_count": 31,
   "metadata": {},
   "outputs": [
    {
     "data": {
      "text/plain": [
       "1825"
      ]
     },
     "execution_count": 31,
     "metadata": {},
     "output_type": "execute_result"
    }
   ],
   "source": [
    "len(words_list)"
   ]
  },
  {
   "cell_type": "code",
   "execution_count": 32,
   "metadata": {},
   "outputs": [
    {
     "data": {
      "text/plain": [
       "1825"
      ]
     },
     "execution_count": 32,
     "metadata": {},
     "output_type": "execute_result"
    }
   ],
   "source": [
    "len(NWo)"
   ]
  },
  {
   "cell_type": "code",
   "execution_count": 33,
   "metadata": {},
   "outputs": [],
   "source": [
    "n_difficult=[]\n",
    "for words in words_list:\n",
    "    temp=0\n",
    "    for word in words:\n",
    "        if word in most_used_words:\n",
    "            temp +=1\n",
    "            n_difficult.append(temp)"
   ]
  },
  {
   "cell_type": "code",
   "execution_count": 34,
   "metadata": {},
   "outputs": [
    {
     "data": {
      "text/plain": [
       "array([0.99945205, 0.99890411, 0.99835616, 0.99780822, 0.99726027])"
      ]
     },
     "execution_count": 34,
     "metadata": {},
     "output_type": "execute_result"
    }
   ],
   "source": [
    "n_difficult=np.array(n_difficult,dtype=int)\n",
    "PWD=np.array((1-n_difficult/len(NWo)),dtype=float)\n",
    "PWD[:5]    "
   ]
  },
  {
   "cell_type": "code",
   "execution_count": 35,
   "metadata": {},
   "outputs": [
    {
     "data": {
      "text/plain": [
       "1825"
      ]
     },
     "execution_count": 35,
     "metadata": {},
     "output_type": "execute_result"
    }
   ],
   "source": [
    "len(NWo)"
   ]
  },
  {
   "cell_type": "code",
   "execution_count": 36,
   "metadata": {},
   "outputs": [],
   "source": [
    "n_difficult=[]\n",
    "for syls in syls_list:\n",
    "    temp=0\n",
    "    for syl in syls:\n",
    "        if syl in most_used_syls:\n",
    "            temp +=1\n",
    "        n_difficult.append(temp)"
   ]
  },
  {
   "cell_type": "code",
   "execution_count": 37,
   "metadata": {},
   "outputs": [
    {
     "data": {
      "text/plain": [
       "array([0.99945205, 0.99890411, 0.99835616, 0.99780822, 0.99726027])"
      ]
     },
     "execution_count": 37,
     "metadata": {},
     "output_type": "execute_result"
    }
   ],
   "source": [
    "n_difficult=np.array(n_difficult,dtype=int)\n",
    "PDS=np.array((1-n_difficult/len(NSyl)),dtype=float)\n",
    "PDS[:5]"
   ]
  },
  {
   "cell_type": "code",
   "execution_count": 38,
   "metadata": {},
   "outputs": [],
   "source": [
    "# print(len(PDS),len(PWD),len(PSVW),len(PDSVW))"
   ]
  },
  {
   "cell_type": "code",
   "execution_count": 39,
   "metadata": {
    "colab": {
     "base_uri": "https://localhost:8080/"
    },
    "executionInfo": {
     "elapsed": 9,
     "status": "ok",
     "timestamp": 1625212823316,
     "user": {
      "displayName": "Trong-Hung Huynh",
      "photoUrl": "",
      "userId": "05059296324934067674"
     },
     "user_tz": -420
    },
    "id": "66rZNrfXnYzh",
    "outputId": "0640e17a-f0d1-499b-fd54-b874adcde569"
   },
   "outputs": [],
   "source": [
    "# Percentage of Sino-Vietnamese Words\n",
    "sino_viet_words = []\n",
    "for words in words_list:\n",
    "    \n",
    "    temp = []\n",
    "    for word in words:\n",
    "        if word in sino_words:\n",
    "            temp.append(word)"
   ]
  },
  {
   "cell_type": "code",
   "execution_count": 40,
   "metadata": {},
   "outputs": [
    {
     "data": {
      "text/plain": [
       "array([0.00175798, 0.00169539, 0.00405132, 0.00611621, 0.00078493])"
      ]
     },
     "execution_count": 40,
     "metadata": {},
     "output_type": "execute_result"
    }
   ],
   "source": [
    "sino_viet_words.append(temp)\n",
    "NSVW = np.array([len(words) for words in sino_viet_words])\n",
    "PSVW = np.array(NSVW/NWo, dtype=float)\n",
    "PSVW[:5]"
   ]
  },
  {
   "cell_type": "code",
   "execution_count": 41,
   "metadata": {
    "colab": {
     "base_uri": "https://localhost:8080/"
    },
    "executionInfo": {
     "elapsed": 7,
     "status": "ok",
     "timestamp": 1625212823317,
     "user": {
      "displayName": "Trong-Hung Huynh",
      "photoUrl": "",
      "userId": "05059296324934067674"
     },
     "user_tz": -420
    },
    "id": "UOUZtUeeoKn3",
    "outputId": "4a6b88dd-7042-48d2-d63e-c642578e26fb"
   },
   "outputs": [
    {
     "data": {
      "text/plain": [
       "array([0.010551  , 0.00813008, 0.01022727, 0.01512605, 0.00647482])"
      ]
     },
     "execution_count": 41,
     "metadata": {},
     "output_type": "execute_result"
    }
   ],
   "source": [
    "# Percentage of Distinct Sino-Vietnamese Words\n",
    "NDSVW = np.array([len(Counter(words)) for words in sino_viet_words])\n",
    "PDSVW = np.array(NDSVW/NDWo, dtype=float)\n",
    "PDSVW[:5]"
   ]
  },
  {
   "cell_type": "code",
   "execution_count": 42,
   "metadata": {},
   "outputs": [
    {
     "data": {
      "text/html": [
       "<div>\n",
       "<style scoped>\n",
       "    .dataframe tbody tr th:only-of-type {\n",
       "        vertical-align: middle;\n",
       "    }\n",
       "\n",
       "    .dataframe tbody tr th {\n",
       "        vertical-align: top;\n",
       "    }\n",
       "\n",
       "    .dataframe thead th {\n",
       "        text-align: right;\n",
       "    }\n",
       "</style>\n",
       "<table border=\"1\" class=\"dataframe\">\n",
       "  <thead>\n",
       "    <tr style=\"text-align: right;\">\n",
       "      <th></th>\n",
       "      <th>text</th>\n",
       "      <th>label</th>\n",
       "      <th>word</th>\n",
       "      <th>NSen</th>\n",
       "      <th>NCha</th>\n",
       "      <th>AWLS</th>\n",
       "      <th>PWD</th>\n",
       "      <th>PDS</th>\n",
       "      <th>PSVW</th>\n",
       "      <th>PDSVW</th>\n",
       "    </tr>\n",
       "  </thead>\n",
       "  <tbody>\n",
       "    <tr>\n",
       "      <th>0</th>\n",
       "      <td>khái niệm diễn ngôn trong nghiên cứu văn học h...</td>\n",
       "      <td>0</td>\n",
       "      <td>[khái, niệm, diễn, ngôn, trong, nghiên, cứu, v...</td>\n",
       "      <td>1</td>\n",
       "      <td>23780</td>\n",
       "      <td>1.0</td>\n",
       "      <td>0.999452</td>\n",
       "      <td>0.999452</td>\n",
       "      <td>0.001758</td>\n",
       "      <td>0.010551</td>\n",
       "    </tr>\n",
       "    <tr>\n",
       "      <th>1</th>\n",
       "      <td>tư tưởng nữ học của đạm phương nữ sử trong bài...</td>\n",
       "      <td>0</td>\n",
       "      <td>[tư, tưởng, nữ, học, của, đạm, phương, nữ, sử,...</td>\n",
       "      <td>1</td>\n",
       "      <td>23416</td>\n",
       "      <td>1.0</td>\n",
       "      <td>0.998904</td>\n",
       "      <td>0.998904</td>\n",
       "      <td>0.001695</td>\n",
       "      <td>0.008130</td>\n",
       "    </tr>\n",
       "    <tr>\n",
       "      <th>2</th>\n",
       "      <td>bí thuật của nghề nghiệp người muốn là xạ thủ ...</td>\n",
       "      <td>0</td>\n",
       "      <td>[bí, thuật, của, nghề, nghiệp, người, muốn, là...</td>\n",
       "      <td>1</td>\n",
       "      <td>9744</td>\n",
       "      <td>1.0</td>\n",
       "      <td>0.998356</td>\n",
       "      <td>0.998356</td>\n",
       "      <td>0.004051</td>\n",
       "      <td>0.010227</td>\n",
       "    </tr>\n",
       "    <tr>\n",
       "      <th>3</th>\n",
       "      <td>vài suy tư về kafka tác phẩm của kafka là một ...</td>\n",
       "      <td>0</td>\n",
       "      <td>[vài, suy, tư, về, kafka, tác, phẩm, của, kafk...</td>\n",
       "      <td>1</td>\n",
       "      <td>6607</td>\n",
       "      <td>1.0</td>\n",
       "      <td>0.997808</td>\n",
       "      <td>0.997808</td>\n",
       "      <td>0.006116</td>\n",
       "      <td>0.015126</td>\n",
       "    </tr>\n",
       "    <tr>\n",
       "      <th>4</th>\n",
       "      <td>người kể chuyện tự ý thức trong nỗi buồn chiến...</td>\n",
       "      <td>0</td>\n",
       "      <td>[người, kể, chuyện, tự, ý, thức, trong, nỗi, b...</td>\n",
       "      <td>1</td>\n",
       "      <td>52654</td>\n",
       "      <td>1.0</td>\n",
       "      <td>0.997260</td>\n",
       "      <td>0.997260</td>\n",
       "      <td>0.000785</td>\n",
       "      <td>0.006475</td>\n",
       "    </tr>\n",
       "  </tbody>\n",
       "</table>\n",
       "</div>"
      ],
      "text/plain": [
       "                                                text  label  \\\n",
       "0  khái niệm diễn ngôn trong nghiên cứu văn học h...      0   \n",
       "1  tư tưởng nữ học của đạm phương nữ sử trong bài...      0   \n",
       "2  bí thuật của nghề nghiệp người muốn là xạ thủ ...      0   \n",
       "3  vài suy tư về kafka tác phẩm của kafka là một ...      0   \n",
       "4  người kể chuyện tự ý thức trong nỗi buồn chiến...      0   \n",
       "\n",
       "                                                word  NSen   NCha  AWLS  \\\n",
       "0  [khái, niệm, diễn, ngôn, trong, nghiên, cứu, v...     1  23780   1.0   \n",
       "1  [tư, tưởng, nữ, học, của, đạm, phương, nữ, sử,...     1  23416   1.0   \n",
       "2  [bí, thuật, của, nghề, nghiệp, người, muốn, là...     1   9744   1.0   \n",
       "3  [vài, suy, tư, về, kafka, tác, phẩm, của, kafk...     1   6607   1.0   \n",
       "4  [người, kể, chuyện, tự, ý, thức, trong, nỗi, b...     1  52654   1.0   \n",
       "\n",
       "        PWD       PDS      PSVW     PDSVW  \n",
       "0  0.999452  0.999452  0.001758  0.010551  \n",
       "1  0.998904  0.998904  0.001695  0.008130  \n",
       "2  0.998356  0.998356  0.004051  0.010227  \n",
       "3  0.997808  0.997808  0.006116  0.015126  \n",
       "4  0.997260  0.997260  0.000785  0.006475  "
      ]
     },
     "execution_count": 42,
     "metadata": {},
     "output_type": "execute_result"
    }
   ],
   "source": [
    "df['NSen']=NSen\n",
    "df['NCha']=NCha\n",
    "df['AWLS']=AWLS\n",
    "df['PWD']=PWD[:1825]\n",
    "df['PDS']=PDS[:1825]\n",
    "df['PSVW']=PSVW\n",
    "df['PDSVW']=PDSVW\n",
    "df.head()\n"
   ]
  },
  {
   "cell_type": "code",
   "execution_count": 43,
   "metadata": {},
   "outputs": [],
   "source": [
    "df.to_csv(\"feature_df.csv\", index=False)"
   ]
  }
 ],
 "metadata": {
  "colab": {
   "authorship_tag": "ABX9TyOYm/Srt8KB4hZ+wCR/x/+W",
   "collapsed_sections": [],
   "mount_file_id": "1d-z3Qcqd9AUeq_OslQytuXDKe5G-uWv6",
   "name": "ExtractFeaturesForSVM.ipynb",
   "provenance": []
  },
  "kernelspec": {
   "display_name": "Python 3 (ipykernel)",
   "language": "python",
   "name": "python3"
  },
  "language_info": {
   "codemirror_mode": {
    "name": "ipython",
    "version": 3
   },
   "file_extension": ".py",
   "mimetype": "text/x-python",
   "name": "python",
   "nbconvert_exporter": "python",
   "pygments_lexer": "ipython3",
   "version": "3.10.1"
  },
  "vscode": {
   "interpreter": {
    "hash": "369f2c481f4da34e4445cda3fffd2e751bd1c4d706f27375911949ba6bb62e1c"
   }
  }
 },
 "nbformat": 4,
 "nbformat_minor": 1
}
